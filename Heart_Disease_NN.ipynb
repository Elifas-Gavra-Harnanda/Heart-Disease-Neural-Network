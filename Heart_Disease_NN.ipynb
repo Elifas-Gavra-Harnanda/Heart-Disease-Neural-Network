{
  "nbformat": 4,
  "nbformat_minor": 0,
  "metadata": {
    "colab": {
      "provenance": []
    },
    "kernelspec": {
      "name": "python3",
      "display_name": "Python 3"
    },
    "language_info": {
      "name": "python"
    }
  },
  "cells": [
    {
      "cell_type": "markdown",
      "source": [
        "**Hear Disease Menggunakan Neural Network**"
      ],
      "metadata": {
        "id": "w2fgpaw7ORqU"
      }
    },
    {
      "cell_type": "markdown",
      "source": [
        "**1. Import Library**"
      ],
      "metadata": {
        "id": "k1Ml-UVCOeKD"
      }
    },
    {
      "cell_type": "code",
      "execution_count": 1,
      "metadata": {
        "id": "vY8CdmeJOOj7"
      },
      "outputs": [],
      "source": [
        "import numpy as np\n",
        "import pandas as pd\n",
        "import matplotlib.pyplot as plt\n",
        "import seaborn as sns"
      ]
    },
    {
      "cell_type": "markdown",
      "source": [
        "**2. Load Dataset**"
      ],
      "metadata": {
        "id": "mj60_bi3Orw0"
      }
    },
    {
      "cell_type": "code",
      "source": [
        "dataset = pd.read_csv('heart.csv')"
      ],
      "metadata": {
        "id": "g7FILMRDOmOt"
      },
      "execution_count": 2,
      "outputs": []
    },
    {
      "cell_type": "code",
      "source": [
        "dataset"
      ],
      "metadata": {
        "colab": {
          "base_uri": "https://localhost:8080/",
          "height": 423
        },
        "id": "tFSLrkiAOxb6",
        "outputId": "8da3ebdd-3514-462d-9d61-12937513aaa3"
      },
      "execution_count": 3,
      "outputs": [
        {
          "output_type": "execute_result",
          "data": {
            "text/plain": [
              "      age  sex  cp  trestbps  chol  fbs  restecg  thalach  exang  oldpeak  \\\n",
              "0      52    1   0       125   212    0        1      168      0      1.0   \n",
              "1      53    1   0       140   203    1        0      155      1      3.1   \n",
              "2      70    1   0       145   174    0        1      125      1      2.6   \n",
              "3      61    1   0       148   203    0        1      161      0      0.0   \n",
              "4      62    0   0       138   294    1        1      106      0      1.9   \n",
              "...   ...  ...  ..       ...   ...  ...      ...      ...    ...      ...   \n",
              "1020   59    1   1       140   221    0        1      164      1      0.0   \n",
              "1021   60    1   0       125   258    0        0      141      1      2.8   \n",
              "1022   47    1   0       110   275    0        0      118      1      1.0   \n",
              "1023   50    0   0       110   254    0        0      159      0      0.0   \n",
              "1024   54    1   0       120   188    0        1      113      0      1.4   \n",
              "\n",
              "      slope  ca  thal  target  \n",
              "0         2   2     3       0  \n",
              "1         0   0     3       0  \n",
              "2         0   0     3       0  \n",
              "3         2   1     3       0  \n",
              "4         1   3     2       0  \n",
              "...     ...  ..   ...     ...  \n",
              "1020      2   0     2       1  \n",
              "1021      1   1     3       0  \n",
              "1022      1   1     2       0  \n",
              "1023      2   0     2       1  \n",
              "1024      1   1     3       0  \n",
              "\n",
              "[1025 rows x 14 columns]"
            ],
            "text/html": [
              "\n",
              "  <div id=\"df-0a032ccd-eb27-4080-85e8-92830afa8fa7\">\n",
              "    <div class=\"colab-df-container\">\n",
              "      <div>\n",
              "<style scoped>\n",
              "    .dataframe tbody tr th:only-of-type {\n",
              "        vertical-align: middle;\n",
              "    }\n",
              "\n",
              "    .dataframe tbody tr th {\n",
              "        vertical-align: top;\n",
              "    }\n",
              "\n",
              "    .dataframe thead th {\n",
              "        text-align: right;\n",
              "    }\n",
              "</style>\n",
              "<table border=\"1\" class=\"dataframe\">\n",
              "  <thead>\n",
              "    <tr style=\"text-align: right;\">\n",
              "      <th></th>\n",
              "      <th>age</th>\n",
              "      <th>sex</th>\n",
              "      <th>cp</th>\n",
              "      <th>trestbps</th>\n",
              "      <th>chol</th>\n",
              "      <th>fbs</th>\n",
              "      <th>restecg</th>\n",
              "      <th>thalach</th>\n",
              "      <th>exang</th>\n",
              "      <th>oldpeak</th>\n",
              "      <th>slope</th>\n",
              "      <th>ca</th>\n",
              "      <th>thal</th>\n",
              "      <th>target</th>\n",
              "    </tr>\n",
              "  </thead>\n",
              "  <tbody>\n",
              "    <tr>\n",
              "      <th>0</th>\n",
              "      <td>52</td>\n",
              "      <td>1</td>\n",
              "      <td>0</td>\n",
              "      <td>125</td>\n",
              "      <td>212</td>\n",
              "      <td>0</td>\n",
              "      <td>1</td>\n",
              "      <td>168</td>\n",
              "      <td>0</td>\n",
              "      <td>1.0</td>\n",
              "      <td>2</td>\n",
              "      <td>2</td>\n",
              "      <td>3</td>\n",
              "      <td>0</td>\n",
              "    </tr>\n",
              "    <tr>\n",
              "      <th>1</th>\n",
              "      <td>53</td>\n",
              "      <td>1</td>\n",
              "      <td>0</td>\n",
              "      <td>140</td>\n",
              "      <td>203</td>\n",
              "      <td>1</td>\n",
              "      <td>0</td>\n",
              "      <td>155</td>\n",
              "      <td>1</td>\n",
              "      <td>3.1</td>\n",
              "      <td>0</td>\n",
              "      <td>0</td>\n",
              "      <td>3</td>\n",
              "      <td>0</td>\n",
              "    </tr>\n",
              "    <tr>\n",
              "      <th>2</th>\n",
              "      <td>70</td>\n",
              "      <td>1</td>\n",
              "      <td>0</td>\n",
              "      <td>145</td>\n",
              "      <td>174</td>\n",
              "      <td>0</td>\n",
              "      <td>1</td>\n",
              "      <td>125</td>\n",
              "      <td>1</td>\n",
              "      <td>2.6</td>\n",
              "      <td>0</td>\n",
              "      <td>0</td>\n",
              "      <td>3</td>\n",
              "      <td>0</td>\n",
              "    </tr>\n",
              "    <tr>\n",
              "      <th>3</th>\n",
              "      <td>61</td>\n",
              "      <td>1</td>\n",
              "      <td>0</td>\n",
              "      <td>148</td>\n",
              "      <td>203</td>\n",
              "      <td>0</td>\n",
              "      <td>1</td>\n",
              "      <td>161</td>\n",
              "      <td>0</td>\n",
              "      <td>0.0</td>\n",
              "      <td>2</td>\n",
              "      <td>1</td>\n",
              "      <td>3</td>\n",
              "      <td>0</td>\n",
              "    </tr>\n",
              "    <tr>\n",
              "      <th>4</th>\n",
              "      <td>62</td>\n",
              "      <td>0</td>\n",
              "      <td>0</td>\n",
              "      <td>138</td>\n",
              "      <td>294</td>\n",
              "      <td>1</td>\n",
              "      <td>1</td>\n",
              "      <td>106</td>\n",
              "      <td>0</td>\n",
              "      <td>1.9</td>\n",
              "      <td>1</td>\n",
              "      <td>3</td>\n",
              "      <td>2</td>\n",
              "      <td>0</td>\n",
              "    </tr>\n",
              "    <tr>\n",
              "      <th>...</th>\n",
              "      <td>...</td>\n",
              "      <td>...</td>\n",
              "      <td>...</td>\n",
              "      <td>...</td>\n",
              "      <td>...</td>\n",
              "      <td>...</td>\n",
              "      <td>...</td>\n",
              "      <td>...</td>\n",
              "      <td>...</td>\n",
              "      <td>...</td>\n",
              "      <td>...</td>\n",
              "      <td>...</td>\n",
              "      <td>...</td>\n",
              "      <td>...</td>\n",
              "    </tr>\n",
              "    <tr>\n",
              "      <th>1020</th>\n",
              "      <td>59</td>\n",
              "      <td>1</td>\n",
              "      <td>1</td>\n",
              "      <td>140</td>\n",
              "      <td>221</td>\n",
              "      <td>0</td>\n",
              "      <td>1</td>\n",
              "      <td>164</td>\n",
              "      <td>1</td>\n",
              "      <td>0.0</td>\n",
              "      <td>2</td>\n",
              "      <td>0</td>\n",
              "      <td>2</td>\n",
              "      <td>1</td>\n",
              "    </tr>\n",
              "    <tr>\n",
              "      <th>1021</th>\n",
              "      <td>60</td>\n",
              "      <td>1</td>\n",
              "      <td>0</td>\n",
              "      <td>125</td>\n",
              "      <td>258</td>\n",
              "      <td>0</td>\n",
              "      <td>0</td>\n",
              "      <td>141</td>\n",
              "      <td>1</td>\n",
              "      <td>2.8</td>\n",
              "      <td>1</td>\n",
              "      <td>1</td>\n",
              "      <td>3</td>\n",
              "      <td>0</td>\n",
              "    </tr>\n",
              "    <tr>\n",
              "      <th>1022</th>\n",
              "      <td>47</td>\n",
              "      <td>1</td>\n",
              "      <td>0</td>\n",
              "      <td>110</td>\n",
              "      <td>275</td>\n",
              "      <td>0</td>\n",
              "      <td>0</td>\n",
              "      <td>118</td>\n",
              "      <td>1</td>\n",
              "      <td>1.0</td>\n",
              "      <td>1</td>\n",
              "      <td>1</td>\n",
              "      <td>2</td>\n",
              "      <td>0</td>\n",
              "    </tr>\n",
              "    <tr>\n",
              "      <th>1023</th>\n",
              "      <td>50</td>\n",
              "      <td>0</td>\n",
              "      <td>0</td>\n",
              "      <td>110</td>\n",
              "      <td>254</td>\n",
              "      <td>0</td>\n",
              "      <td>0</td>\n",
              "      <td>159</td>\n",
              "      <td>0</td>\n",
              "      <td>0.0</td>\n",
              "      <td>2</td>\n",
              "      <td>0</td>\n",
              "      <td>2</td>\n",
              "      <td>1</td>\n",
              "    </tr>\n",
              "    <tr>\n",
              "      <th>1024</th>\n",
              "      <td>54</td>\n",
              "      <td>1</td>\n",
              "      <td>0</td>\n",
              "      <td>120</td>\n",
              "      <td>188</td>\n",
              "      <td>0</td>\n",
              "      <td>1</td>\n",
              "      <td>113</td>\n",
              "      <td>0</td>\n",
              "      <td>1.4</td>\n",
              "      <td>1</td>\n",
              "      <td>1</td>\n",
              "      <td>3</td>\n",
              "      <td>0</td>\n",
              "    </tr>\n",
              "  </tbody>\n",
              "</table>\n",
              "<p>1025 rows × 14 columns</p>\n",
              "</div>\n",
              "      <button class=\"colab-df-convert\" onclick=\"convertToInteractive('df-0a032ccd-eb27-4080-85e8-92830afa8fa7')\"\n",
              "              title=\"Convert this dataframe to an interactive table.\"\n",
              "              style=\"display:none;\">\n",
              "        \n",
              "  <svg xmlns=\"http://www.w3.org/2000/svg\" height=\"24px\"viewBox=\"0 0 24 24\"\n",
              "       width=\"24px\">\n",
              "    <path d=\"M0 0h24v24H0V0z\" fill=\"none\"/>\n",
              "    <path d=\"M18.56 5.44l.94 2.06.94-2.06 2.06-.94-2.06-.94-.94-2.06-.94 2.06-2.06.94zm-11 1L8.5 8.5l.94-2.06 2.06-.94-2.06-.94L8.5 2.5l-.94 2.06-2.06.94zm10 10l.94 2.06.94-2.06 2.06-.94-2.06-.94-.94-2.06-.94 2.06-2.06.94z\"/><path d=\"M17.41 7.96l-1.37-1.37c-.4-.4-.92-.59-1.43-.59-.52 0-1.04.2-1.43.59L10.3 9.45l-7.72 7.72c-.78.78-.78 2.05 0 2.83L4 21.41c.39.39.9.59 1.41.59.51 0 1.02-.2 1.41-.59l7.78-7.78 2.81-2.81c.8-.78.8-2.07 0-2.86zM5.41 20L4 18.59l7.72-7.72 1.47 1.35L5.41 20z\"/>\n",
              "  </svg>\n",
              "      </button>\n",
              "      \n",
              "  <style>\n",
              "    .colab-df-container {\n",
              "      display:flex;\n",
              "      flex-wrap:wrap;\n",
              "      gap: 12px;\n",
              "    }\n",
              "\n",
              "    .colab-df-convert {\n",
              "      background-color: #E8F0FE;\n",
              "      border: none;\n",
              "      border-radius: 50%;\n",
              "      cursor: pointer;\n",
              "      display: none;\n",
              "      fill: #1967D2;\n",
              "      height: 32px;\n",
              "      padding: 0 0 0 0;\n",
              "      width: 32px;\n",
              "    }\n",
              "\n",
              "    .colab-df-convert:hover {\n",
              "      background-color: #E2EBFA;\n",
              "      box-shadow: 0px 1px 2px rgba(60, 64, 67, 0.3), 0px 1px 3px 1px rgba(60, 64, 67, 0.15);\n",
              "      fill: #174EA6;\n",
              "    }\n",
              "\n",
              "    [theme=dark] .colab-df-convert {\n",
              "      background-color: #3B4455;\n",
              "      fill: #D2E3FC;\n",
              "    }\n",
              "\n",
              "    [theme=dark] .colab-df-convert:hover {\n",
              "      background-color: #434B5C;\n",
              "      box-shadow: 0px 1px 3px 1px rgba(0, 0, 0, 0.15);\n",
              "      filter: drop-shadow(0px 1px 2px rgba(0, 0, 0, 0.3));\n",
              "      fill: #FFFFFF;\n",
              "    }\n",
              "  </style>\n",
              "\n",
              "      <script>\n",
              "        const buttonEl =\n",
              "          document.querySelector('#df-0a032ccd-eb27-4080-85e8-92830afa8fa7 button.colab-df-convert');\n",
              "        buttonEl.style.display =\n",
              "          google.colab.kernel.accessAllowed ? 'block' : 'none';\n",
              "\n",
              "        async function convertToInteractive(key) {\n",
              "          const element = document.querySelector('#df-0a032ccd-eb27-4080-85e8-92830afa8fa7');\n",
              "          const dataTable =\n",
              "            await google.colab.kernel.invokeFunction('convertToInteractive',\n",
              "                                                     [key], {});\n",
              "          if (!dataTable) return;\n",
              "\n",
              "          const docLinkHtml = 'Like what you see? Visit the ' +\n",
              "            '<a target=\"_blank\" href=https://colab.research.google.com/notebooks/data_table.ipynb>data table notebook</a>'\n",
              "            + ' to learn more about interactive tables.';\n",
              "          element.innerHTML = '';\n",
              "          dataTable['output_type'] = 'display_data';\n",
              "          await google.colab.output.renderOutput(dataTable, element);\n",
              "          const docLink = document.createElement('div');\n",
              "          docLink.innerHTML = docLinkHtml;\n",
              "          element.appendChild(docLink);\n",
              "        }\n",
              "      </script>\n",
              "    </div>\n",
              "  </div>\n",
              "  "
            ]
          },
          "metadata": {},
          "execution_count": 3
        }
      ]
    },
    {
      "cell_type": "code",
      "source": [
        "dataset.describe()"
      ],
      "metadata": {
        "colab": {
          "base_uri": "https://localhost:8080/",
          "height": 364
        },
        "id": "oxU42FvFOyOK",
        "outputId": "6a0b8b59-7a96-4f41-d084-3292c67937b1"
      },
      "execution_count": 4,
      "outputs": [
        {
          "output_type": "execute_result",
          "data": {
            "text/plain": [
              "               age          sex           cp     trestbps        chol  \\\n",
              "count  1025.000000  1025.000000  1025.000000  1025.000000  1025.00000   \n",
              "mean     54.434146     0.695610     0.942439   131.611707   246.00000   \n",
              "std       9.072290     0.460373     1.029641    17.516718    51.59251   \n",
              "min      29.000000     0.000000     0.000000    94.000000   126.00000   \n",
              "25%      48.000000     0.000000     0.000000   120.000000   211.00000   \n",
              "50%      56.000000     1.000000     1.000000   130.000000   240.00000   \n",
              "75%      61.000000     1.000000     2.000000   140.000000   275.00000   \n",
              "max      77.000000     1.000000     3.000000   200.000000   564.00000   \n",
              "\n",
              "               fbs      restecg      thalach        exang      oldpeak  \\\n",
              "count  1025.000000  1025.000000  1025.000000  1025.000000  1025.000000   \n",
              "mean      0.149268     0.529756   149.114146     0.336585     1.071512   \n",
              "std       0.356527     0.527878    23.005724     0.472772     1.175053   \n",
              "min       0.000000     0.000000    71.000000     0.000000     0.000000   \n",
              "25%       0.000000     0.000000   132.000000     0.000000     0.000000   \n",
              "50%       0.000000     1.000000   152.000000     0.000000     0.800000   \n",
              "75%       0.000000     1.000000   166.000000     1.000000     1.800000   \n",
              "max       1.000000     2.000000   202.000000     1.000000     6.200000   \n",
              "\n",
              "             slope           ca         thal       target  \n",
              "count  1025.000000  1025.000000  1025.000000  1025.000000  \n",
              "mean      1.385366     0.754146     2.323902     0.513171  \n",
              "std       0.617755     1.030798     0.620660     0.500070  \n",
              "min       0.000000     0.000000     0.000000     0.000000  \n",
              "25%       1.000000     0.000000     2.000000     0.000000  \n",
              "50%       1.000000     0.000000     2.000000     1.000000  \n",
              "75%       2.000000     1.000000     3.000000     1.000000  \n",
              "max       2.000000     4.000000     3.000000     1.000000  "
            ],
            "text/html": [
              "\n",
              "  <div id=\"df-fe9d5d8f-bb9c-47a9-99e8-8fb3a04e3033\">\n",
              "    <div class=\"colab-df-container\">\n",
              "      <div>\n",
              "<style scoped>\n",
              "    .dataframe tbody tr th:only-of-type {\n",
              "        vertical-align: middle;\n",
              "    }\n",
              "\n",
              "    .dataframe tbody tr th {\n",
              "        vertical-align: top;\n",
              "    }\n",
              "\n",
              "    .dataframe thead th {\n",
              "        text-align: right;\n",
              "    }\n",
              "</style>\n",
              "<table border=\"1\" class=\"dataframe\">\n",
              "  <thead>\n",
              "    <tr style=\"text-align: right;\">\n",
              "      <th></th>\n",
              "      <th>age</th>\n",
              "      <th>sex</th>\n",
              "      <th>cp</th>\n",
              "      <th>trestbps</th>\n",
              "      <th>chol</th>\n",
              "      <th>fbs</th>\n",
              "      <th>restecg</th>\n",
              "      <th>thalach</th>\n",
              "      <th>exang</th>\n",
              "      <th>oldpeak</th>\n",
              "      <th>slope</th>\n",
              "      <th>ca</th>\n",
              "      <th>thal</th>\n",
              "      <th>target</th>\n",
              "    </tr>\n",
              "  </thead>\n",
              "  <tbody>\n",
              "    <tr>\n",
              "      <th>count</th>\n",
              "      <td>1025.000000</td>\n",
              "      <td>1025.000000</td>\n",
              "      <td>1025.000000</td>\n",
              "      <td>1025.000000</td>\n",
              "      <td>1025.00000</td>\n",
              "      <td>1025.000000</td>\n",
              "      <td>1025.000000</td>\n",
              "      <td>1025.000000</td>\n",
              "      <td>1025.000000</td>\n",
              "      <td>1025.000000</td>\n",
              "      <td>1025.000000</td>\n",
              "      <td>1025.000000</td>\n",
              "      <td>1025.000000</td>\n",
              "      <td>1025.000000</td>\n",
              "    </tr>\n",
              "    <tr>\n",
              "      <th>mean</th>\n",
              "      <td>54.434146</td>\n",
              "      <td>0.695610</td>\n",
              "      <td>0.942439</td>\n",
              "      <td>131.611707</td>\n",
              "      <td>246.00000</td>\n",
              "      <td>0.149268</td>\n",
              "      <td>0.529756</td>\n",
              "      <td>149.114146</td>\n",
              "      <td>0.336585</td>\n",
              "      <td>1.071512</td>\n",
              "      <td>1.385366</td>\n",
              "      <td>0.754146</td>\n",
              "      <td>2.323902</td>\n",
              "      <td>0.513171</td>\n",
              "    </tr>\n",
              "    <tr>\n",
              "      <th>std</th>\n",
              "      <td>9.072290</td>\n",
              "      <td>0.460373</td>\n",
              "      <td>1.029641</td>\n",
              "      <td>17.516718</td>\n",
              "      <td>51.59251</td>\n",
              "      <td>0.356527</td>\n",
              "      <td>0.527878</td>\n",
              "      <td>23.005724</td>\n",
              "      <td>0.472772</td>\n",
              "      <td>1.175053</td>\n",
              "      <td>0.617755</td>\n",
              "      <td>1.030798</td>\n",
              "      <td>0.620660</td>\n",
              "      <td>0.500070</td>\n",
              "    </tr>\n",
              "    <tr>\n",
              "      <th>min</th>\n",
              "      <td>29.000000</td>\n",
              "      <td>0.000000</td>\n",
              "      <td>0.000000</td>\n",
              "      <td>94.000000</td>\n",
              "      <td>126.00000</td>\n",
              "      <td>0.000000</td>\n",
              "      <td>0.000000</td>\n",
              "      <td>71.000000</td>\n",
              "      <td>0.000000</td>\n",
              "      <td>0.000000</td>\n",
              "      <td>0.000000</td>\n",
              "      <td>0.000000</td>\n",
              "      <td>0.000000</td>\n",
              "      <td>0.000000</td>\n",
              "    </tr>\n",
              "    <tr>\n",
              "      <th>25%</th>\n",
              "      <td>48.000000</td>\n",
              "      <td>0.000000</td>\n",
              "      <td>0.000000</td>\n",
              "      <td>120.000000</td>\n",
              "      <td>211.00000</td>\n",
              "      <td>0.000000</td>\n",
              "      <td>0.000000</td>\n",
              "      <td>132.000000</td>\n",
              "      <td>0.000000</td>\n",
              "      <td>0.000000</td>\n",
              "      <td>1.000000</td>\n",
              "      <td>0.000000</td>\n",
              "      <td>2.000000</td>\n",
              "      <td>0.000000</td>\n",
              "    </tr>\n",
              "    <tr>\n",
              "      <th>50%</th>\n",
              "      <td>56.000000</td>\n",
              "      <td>1.000000</td>\n",
              "      <td>1.000000</td>\n",
              "      <td>130.000000</td>\n",
              "      <td>240.00000</td>\n",
              "      <td>0.000000</td>\n",
              "      <td>1.000000</td>\n",
              "      <td>152.000000</td>\n",
              "      <td>0.000000</td>\n",
              "      <td>0.800000</td>\n",
              "      <td>1.000000</td>\n",
              "      <td>0.000000</td>\n",
              "      <td>2.000000</td>\n",
              "      <td>1.000000</td>\n",
              "    </tr>\n",
              "    <tr>\n",
              "      <th>75%</th>\n",
              "      <td>61.000000</td>\n",
              "      <td>1.000000</td>\n",
              "      <td>2.000000</td>\n",
              "      <td>140.000000</td>\n",
              "      <td>275.00000</td>\n",
              "      <td>0.000000</td>\n",
              "      <td>1.000000</td>\n",
              "      <td>166.000000</td>\n",
              "      <td>1.000000</td>\n",
              "      <td>1.800000</td>\n",
              "      <td>2.000000</td>\n",
              "      <td>1.000000</td>\n",
              "      <td>3.000000</td>\n",
              "      <td>1.000000</td>\n",
              "    </tr>\n",
              "    <tr>\n",
              "      <th>max</th>\n",
              "      <td>77.000000</td>\n",
              "      <td>1.000000</td>\n",
              "      <td>3.000000</td>\n",
              "      <td>200.000000</td>\n",
              "      <td>564.00000</td>\n",
              "      <td>1.000000</td>\n",
              "      <td>2.000000</td>\n",
              "      <td>202.000000</td>\n",
              "      <td>1.000000</td>\n",
              "      <td>6.200000</td>\n",
              "      <td>2.000000</td>\n",
              "      <td>4.000000</td>\n",
              "      <td>3.000000</td>\n",
              "      <td>1.000000</td>\n",
              "    </tr>\n",
              "  </tbody>\n",
              "</table>\n",
              "</div>\n",
              "      <button class=\"colab-df-convert\" onclick=\"convertToInteractive('df-fe9d5d8f-bb9c-47a9-99e8-8fb3a04e3033')\"\n",
              "              title=\"Convert this dataframe to an interactive table.\"\n",
              "              style=\"display:none;\">\n",
              "        \n",
              "  <svg xmlns=\"http://www.w3.org/2000/svg\" height=\"24px\"viewBox=\"0 0 24 24\"\n",
              "       width=\"24px\">\n",
              "    <path d=\"M0 0h24v24H0V0z\" fill=\"none\"/>\n",
              "    <path d=\"M18.56 5.44l.94 2.06.94-2.06 2.06-.94-2.06-.94-.94-2.06-.94 2.06-2.06.94zm-11 1L8.5 8.5l.94-2.06 2.06-.94-2.06-.94L8.5 2.5l-.94 2.06-2.06.94zm10 10l.94 2.06.94-2.06 2.06-.94-2.06-.94-.94-2.06-.94 2.06-2.06.94z\"/><path d=\"M17.41 7.96l-1.37-1.37c-.4-.4-.92-.59-1.43-.59-.52 0-1.04.2-1.43.59L10.3 9.45l-7.72 7.72c-.78.78-.78 2.05 0 2.83L4 21.41c.39.39.9.59 1.41.59.51 0 1.02-.2 1.41-.59l7.78-7.78 2.81-2.81c.8-.78.8-2.07 0-2.86zM5.41 20L4 18.59l7.72-7.72 1.47 1.35L5.41 20z\"/>\n",
              "  </svg>\n",
              "      </button>\n",
              "      \n",
              "  <style>\n",
              "    .colab-df-container {\n",
              "      display:flex;\n",
              "      flex-wrap:wrap;\n",
              "      gap: 12px;\n",
              "    }\n",
              "\n",
              "    .colab-df-convert {\n",
              "      background-color: #E8F0FE;\n",
              "      border: none;\n",
              "      border-radius: 50%;\n",
              "      cursor: pointer;\n",
              "      display: none;\n",
              "      fill: #1967D2;\n",
              "      height: 32px;\n",
              "      padding: 0 0 0 0;\n",
              "      width: 32px;\n",
              "    }\n",
              "\n",
              "    .colab-df-convert:hover {\n",
              "      background-color: #E2EBFA;\n",
              "      box-shadow: 0px 1px 2px rgba(60, 64, 67, 0.3), 0px 1px 3px 1px rgba(60, 64, 67, 0.15);\n",
              "      fill: #174EA6;\n",
              "    }\n",
              "\n",
              "    [theme=dark] .colab-df-convert {\n",
              "      background-color: #3B4455;\n",
              "      fill: #D2E3FC;\n",
              "    }\n",
              "\n",
              "    [theme=dark] .colab-df-convert:hover {\n",
              "      background-color: #434B5C;\n",
              "      box-shadow: 0px 1px 3px 1px rgba(0, 0, 0, 0.15);\n",
              "      filter: drop-shadow(0px 1px 2px rgba(0, 0, 0, 0.3));\n",
              "      fill: #FFFFFF;\n",
              "    }\n",
              "  </style>\n",
              "\n",
              "      <script>\n",
              "        const buttonEl =\n",
              "          document.querySelector('#df-fe9d5d8f-bb9c-47a9-99e8-8fb3a04e3033 button.colab-df-convert');\n",
              "        buttonEl.style.display =\n",
              "          google.colab.kernel.accessAllowed ? 'block' : 'none';\n",
              "\n",
              "        async function convertToInteractive(key) {\n",
              "          const element = document.querySelector('#df-fe9d5d8f-bb9c-47a9-99e8-8fb3a04e3033');\n",
              "          const dataTable =\n",
              "            await google.colab.kernel.invokeFunction('convertToInteractive',\n",
              "                                                     [key], {});\n",
              "          if (!dataTable) return;\n",
              "\n",
              "          const docLinkHtml = 'Like what you see? Visit the ' +\n",
              "            '<a target=\"_blank\" href=https://colab.research.google.com/notebooks/data_table.ipynb>data table notebook</a>'\n",
              "            + ' to learn more about interactive tables.';\n",
              "          element.innerHTML = '';\n",
              "          dataTable['output_type'] = 'display_data';\n",
              "          await google.colab.output.renderOutput(dataTable, element);\n",
              "          const docLink = document.createElement('div');\n",
              "          docLink.innerHTML = docLinkHtml;\n",
              "          element.appendChild(docLink);\n",
              "        }\n",
              "      </script>\n",
              "    </div>\n",
              "  </div>\n",
              "  "
            ]
          },
          "metadata": {},
          "execution_count": 4
        }
      ]
    },
    {
      "cell_type": "markdown",
      "source": [
        "**Data Exploratory**"
      ],
      "metadata": {
        "id": "Q2RW6XQgO4BI"
      }
    },
    {
      "cell_type": "code",
      "source": [
        "y = dataset['target']\n",
        "sns.countplot(y)"
      ],
      "metadata": {
        "colab": {
          "base_uri": "https://localhost:8080/",
          "height": 351
        },
        "id": "OeRHrC5kO1zP",
        "outputId": "e8e6dc47-196c-42cb-e1e9-c94af04dc5e9"
      },
      "execution_count": 5,
      "outputs": [
        {
          "output_type": "stream",
          "name": "stderr",
          "text": [
            "/usr/local/lib/python3.8/dist-packages/seaborn/_decorators.py:36: FutureWarning: Pass the following variable as a keyword arg: x. From version 0.12, the only valid positional argument will be `data`, and passing other arguments without an explicit keyword will result in an error or misinterpretation.\n",
            "  warnings.warn(\n"
          ]
        },
        {
          "output_type": "execute_result",
          "data": {
            "text/plain": [
              "<AxesSubplot:xlabel='target', ylabel='count'>"
            ]
          },
          "metadata": {},
          "execution_count": 5
        },
        {
          "output_type": "display_data",
          "data": {
            "text/plain": [
              "<Figure size 432x288 with 1 Axes>"
            ],
            "image/png": "[encoded data removed]"
          },
          "metadata": {
            "needs_background": "light"
          }
        }
      ]
    },
    {
      "cell_type": "code",
      "source": [
        "sns.barplot(dataset['thal'], y)"
      ],
      "metadata": {
        "colab": {
          "base_uri": "https://localhost:8080/",
          "height": 355
        },
        "id": "emMK8t6OPDQM",
        "outputId": "0d1a33b8-1629-4e0f-e379-65248a27e901"
      },
      "execution_count": 6,
      "outputs": [
        {
          "output_type": "stream",
          "name": "stderr",
          "text": [
            "/usr/local/lib/python3.8/dist-packages/seaborn/_decorators.py:36: FutureWarning: Pass the following variables as keyword args: x, y. From version 0.12, the only valid positional argument will be `data`, and passing other arguments without an explicit keyword will result in an error or misinterpretation.\n",
            "  warnings.warn(\n"
          ]
        },
        {
          "output_type": "execute_result",
          "data": {
            "text/plain": [
              "<AxesSubplot:xlabel='thal', ylabel='target'>"
            ]
          },
          "metadata": {},
          "execution_count": 6
        },
        {
          "output_type": "display_data",
          "data": {
            "text/plain": [
              "<Figure size 432x288 with 1 Axes>"
            ],
            "image/png": "[encoded data removed]"
          },
          "metadata": {
            "needs_background": "light"
          }
        }
      ]
    },
    {
      "cell_type": "markdown",
      "source": [
        "**3. Train Test Split**"
      ],
      "metadata": {
        "id": "YGjK6ExGPW8q"
      }
    },
    {
      "cell_type": "code",
      "source": [
        "from sklearn.model_selection import train_test_split\n",
        "\n",
        "X = dataset.drop(\"target\", axis=1).values\n",
        "y = dataset['target']"
      ],
      "metadata": {
        "id": "-IA-RMuAPNXI"
      },
      "execution_count": 7,
      "outputs": []
    },
    {
      "cell_type": "code",
      "source": [
        "X"
      ],
      "metadata": {
        "colab": {
          "base_uri": "https://localhost:8080/"
        },
        "id": "48R1PX8zPj72",
        "outputId": "d1c185b4-114f-465a-8a60-5da35e024fdf"
      },
      "execution_count": 8,
      "outputs": [
        {
          "output_type": "execute_result",
          "data": {
            "text/plain": [
              "array([[52.,  1.,  0., ...,  2.,  2.,  3.],\n",
              "       [53.,  1.,  0., ...,  0.,  0.,  3.],\n",
              "       [70.,  1.,  0., ...,  0.,  0.,  3.],\n",
              "       ...,\n",
              "       [47.,  1.,  0., ...,  1.,  1.,  2.],\n",
              "       [50.,  0.,  0., ...,  2.,  0.,  2.],\n",
              "       [54.,  1.,  0., ...,  1.,  1.,  3.]])"
            ]
          },
          "metadata": {},
          "execution_count": 8
        }
      ]
    },
    {
      "cell_type": "code",
      "source": [
        "y"
      ],
      "metadata": {
        "colab": {
          "base_uri": "https://localhost:8080/"
        },
        "id": "qxp63lzHPkm1",
        "outputId": "1bddd9fb-720f-4ad1-94f4-f1af0d6f71ac"
      },
      "execution_count": 9,
      "outputs": [
        {
          "output_type": "execute_result",
          "data": {
            "text/plain": [
              "0       0\n",
              "1       0\n",
              "2       0\n",
              "3       0\n",
              "4       0\n",
              "       ..\n",
              "1020    1\n",
              "1021    0\n",
              "1022    0\n",
              "1023    1\n",
              "1024    0\n",
              "Name: target, Length: 1025, dtype: int64"
            ]
          },
          "metadata": {},
          "execution_count": 9
        }
      ]
    },
    {
      "cell_type": "code",
      "source": [
        "X_train, X_test, y_train, y_test = train_test_split(X, y, test_size= 0.2)"
      ],
      "metadata": {
        "id": "rnD6u2d1PlRe"
      },
      "execution_count": 10,
      "outputs": []
    },
    {
      "cell_type": "markdown",
      "source": [
        "**4.a) Model Fitting - Machine Learning**"
      ],
      "metadata": {
        "id": "THQyMZ3WPwhy"
      }
    },
    {
      "cell_type": "code",
      "source": [
        "from sklearn.linear_model import LogisticRegression\n",
        "from sklearn.neighbors import KNeighborsClassifier"
      ],
      "metadata": {
        "id": "JdHwQse8Psdk"
      },
      "execution_count": 11,
      "outputs": []
    },
    {
      "cell_type": "code",
      "source": [
        "lr = LogisticRegression()\n",
        "knn = KNeighborsClassifier()\n",
        "\n",
        "lr.fit(X_train, y_train)\n",
        "knn.fit(X_train, y_train)"
      ],
      "metadata": {
        "colab": {
          "base_uri": "https://localhost:8080/"
        },
        "id": "HshDQkXXP6A_",
        "outputId": "621b13e0-943a-44ed-a689-608454525597"
      },
      "execution_count": 12,
      "outputs": [
        {
          "output_type": "stream",
          "name": "stderr",
          "text": [
            "/usr/local/lib/python3.8/dist-packages/sklearn/linear_model/_logistic.py:814: ConvergenceWarning: lbfgs failed to converge (status=1):\n",
            "STOP: TOTAL NO. of ITERATIONS REACHED LIMIT.\n",
            "\n",
            "Increase the number of iterations (max_iter) or scale the data as shown in:\n",
            "    https://scikit-learn.org/stable/modules/preprocessing.html\n",
            "Please also refer to the documentation for alternative solver options:\n",
            "    https://scikit-learn.org/stable/modules/linear_model.html#logistic-regression\n",
            "  n_iter_i = _check_optimize_result(\n"
          ]
        },
        {
          "output_type": "execute_result",
          "data": {
            "text/plain": [
              "KNeighborsClassifier()"
            ]
          },
          "metadata": {},
          "execution_count": 12
        }
      ]
    },
    {
      "cell_type": "markdown",
      "source": [
        "**5.a) Metric Evaluation**"
      ],
      "metadata": {
        "id": "mmGeLYxuQI2T"
      }
    },
    {
      "cell_type": "code",
      "source": [
        "from sklearn.metrics import classification_report, accuracy_score"
      ],
      "metadata": {
        "id": "8T_psdIjP8fc"
      },
      "execution_count": 13,
      "outputs": []
    },
    {
      "cell_type": "code",
      "source": [
        "y_pred_lr_train = lr.predict(X_train)\n",
        "y_pred_lr_test = lr.predict(X_test)\n",
        "\n",
        "y_pred_knn_train = knn.predict(X_train)\n",
        "y_pred_knn_test = knn.predict(X_test)"
      ],
      "metadata": {
        "id": "FXR4-8JaQW3k"
      },
      "execution_count": 14,
      "outputs": []
    },
    {
      "cell_type": "code",
      "source": [
        "print(\"Accuracy (train) Logistic Regression: \", accuracy_score(y_train, y_pred_lr_train))\n",
        "print(\"Accuracy (test) Logistic Regression: \", accuracy_score(y_test, y_pred_lr_test))\n",
        "\n",
        "print(\"Accuracy (train) K-NN: \", accuracy_score(y_train, y_pred_knn_train))\n",
        "print(\"Accuracy (test) K-NN: \", accuracy_score(y_test, y_pred_knn_test))"
      ],
      "metadata": {
        "colab": {
          "base_uri": "https://localhost:8080/"
        },
        "id": "fOBqNx0EQaOl",
        "outputId": "ee218cc2-000a-410e-80f2-3e1d490d54fe"
      },
      "execution_count": 15,
      "outputs": [
        {
          "output_type": "stream",
          "name": "stdout",
          "text": [
            "Accuracy (train) Logistic Regression:  0.8439024390243902\n",
            "Accuracy (test) Logistic Regression:  0.8390243902439024\n",
            "Accuracy (train) K-NN:  0.9195121951219513\n",
            "Accuracy (test) K-NN:  0.7560975609756098\n"
          ]
        }
      ]
    },
    {
      "cell_type": "markdown",
      "source": [
        "berdsaarkan evaluasi logistic regression (lr), model lr mengalami underfitting, yaitu nilai test > train, 88.52 % > 83.47 % "
      ],
      "metadata": {
        "id": "_CJmzMMZQyi2"
      }
    },
    {
      "cell_type": "markdown",
      "source": [
        "**4.b) Model fitting - Neural Network**"
      ],
      "metadata": {
        "id": "GK38yqtJRzKP"
      }
    },
    {
      "cell_type": "code",
      "source": [
        "''' Import library '''\n",
        "from keras.models import Sequential # Sequential berarti proses fully connected itu dilakuakn secara terurut\n",
        "from keras.layers import Dense # istilah hidden layer itu dinamakans sebagai Dense"
      ],
      "metadata": {
        "id": "SQyOwlQAQnWx"
      },
      "execution_count": 16,
      "outputs": []
    },
    {
      "cell_type": "code",
      "source": [
        "print(\"input dimension: \", X.shape)\n",
        "print(\"output dimension: \", y.shape)"
      ],
      "metadata": {
        "colab": {
          "base_uri": "https://localhost:8080/"
        },
        "id": "sZOkoLM-SaRG",
        "outputId": "91591dd9-875d-4e5a-a570-1552c2176162"
      },
      "execution_count": 17,
      "outputs": [
        {
          "output_type": "stream",
          "name": "stdout",
          "text": [
            "input dimension:  (1025, 13)\n",
            "output dimension:  (1025,)\n"
          ]
        }
      ]
    },
    {
      "cell_type": "code",
      "source": [
        "''' Build model '''\n",
        "# 2 - 4 -8 16 32 64..\n",
        "model = Sequential()\n",
        "model.add(Dense(16, activation='relu', input_dim=13)) # untuk setiap Dense, common activation = Relu\n",
        "model.add(Dense(16,activation='relu'))\n",
        "model.add(Dense(32,activation='relu'))\n",
        "model.add(Dense(32,activation='relu'))\n",
        "model.add(Dense(8,activation='relu'))\n",
        "model.add(Dense(1, activation='sigmoid')) #untuk setiap output classification: sigmoid (binary) / softmax (multi-binary)"
      ],
      "metadata": {
        "id": "rQiCvWo_R-bM"
      },
      "execution_count": 39,
      "outputs": []
    },
    {
      "cell_type": "code",
      "source": [
        "model.summary()"
      ],
      "metadata": {
        "colab": {
          "base_uri": "https://localhost:8080/"
        },
        "id": "6brrQCZ5SxHv",
        "outputId": "3bad7b1c-752f-474a-f9e7-5bd892d6a00c"
      },
      "execution_count": 40,
      "outputs": [
        {
          "output_type": "stream",
          "name": "stdout",
          "text": [
            "Model: \"sequential_3\"\n",
            "_________________________________________________________________\n",
            " Layer (type)                Output Shape              Param #   \n",
            "=================================================================\n",
            " dense_14 (Dense)            (None, 16)                224       \n",
            "                                                                 \n",
            " dense_15 (Dense)            (None, 16)                272       \n",
            "                                                                 \n",
            " dense_16 (Dense)            (None, 32)                544       \n",
            "                                                                 \n",
            " dense_17 (Dense)            (None, 32)                1056      \n",
            "                                                                 \n",
            " dense_18 (Dense)            (None, 8)                 264       \n",
            "                                                                 \n",
            " dense_19 (Dense)            (None, 1)                 9         \n",
            "                                                                 \n",
            "=================================================================\n",
            "Total params: 2,369\n",
            "Trainable params: 2,369\n",
            "Non-trainable params: 0\n",
            "_________________________________________________________________\n"
          ]
        }
      ]
    },
    {
      "cell_type": "code",
      "source": [
        "''' Optimizer model '''\n",
        "model.compile(loss='binary_crossentropy', optimizer='adam', metrics=['accuracy'])"
      ],
      "metadata": {
        "id": "3sb1nBfnSzdS"
      },
      "execution_count": 41,
      "outputs": []
    },
    {
      "cell_type": "code",
      "source": [
        "history = model.fit(X_train, y_train, epochs=300)"
      ],
      "metadata": {
        "colab": {
          "base_uri": "https://localhost:8080/"
        },
        "id": "AKQkijw2TOx3",
        "outputId": "32a9435b-7763-4804-e6ae-cd827d8e1a24"
      },
      "execution_count": 42,
      "outputs": [
        {
          "output_type": "stream",
          "name": "stdout",
          "text": [
            "Epoch 1/300\n",
            "26/26 [==============================] - 2s 3ms/step - loss: 2.8836 - accuracy: 0.5427\n",
            "Epoch 2/300\n",
            "26/26 [==============================] - 0s 2ms/step - loss: 0.6253 - accuracy: 0.6512\n",
            "Epoch 3/300\n",
            "26/26 [==============================] - 0s 3ms/step - loss: 0.6159 - accuracy: 0.6610\n",
            "Epoch 4/300\n",
            "26/26 [==============================] - 0s 2ms/step - loss: 0.6141 - accuracy: 0.6659\n",
            "Epoch 5/300\n",
            "26/26 [==============================] - 0s 2ms/step - loss: 0.5983 - accuracy: 0.6768\n",
            "Epoch 6/300\n",
            "26/26 [==============================] - 0s 2ms/step - loss: 0.5918 - accuracy: 0.6805\n",
            "Epoch 7/300\n",
            "26/26 [==============================] - 0s 3ms/step - loss: 0.5882 - accuracy: 0.6963\n",
            "Epoch 8/300\n",
            "26/26 [==============================] - 0s 3ms/step - loss: 0.5817 - accuracy: 0.6878\n",
            "Epoch 9/300\n",
            "26/26 [==============================] - 0s 3ms/step - loss: 0.5803 - accuracy: 0.6963\n",
            "Epoch 10/300\n",
            "26/26 [==============================] - 0s 2ms/step - loss: 0.5792 - accuracy: 0.6988\n",
            "Epoch 11/300\n",
            "26/26 [==============================] - 0s 3ms/step - loss: 0.5734 - accuracy: 0.6963\n",
            "Epoch 12/300\n",
            "26/26 [==============================] - 0s 3ms/step - loss: 0.5681 - accuracy: 0.7037\n",
            "Epoch 13/300\n",
            "26/26 [==============================] - 0s 3ms/step - loss: 0.5697 - accuracy: 0.6976\n",
            "Epoch 14/300\n",
            "26/26 [==============================] - 0s 3ms/step - loss: 0.5630 - accuracy: 0.7244\n",
            "Epoch 15/300\n",
            "26/26 [==============================] - 0s 3ms/step - loss: 0.5528 - accuracy: 0.7220\n",
            "Epoch 16/300\n",
            "26/26 [==============================] - 0s 3ms/step - loss: 0.5582 - accuracy: 0.7073\n",
            "Epoch 17/300\n",
            "26/26 [==============================] - 0s 2ms/step - loss: 0.5561 - accuracy: 0.7171\n",
            "Epoch 18/300\n",
            "26/26 [==============================] - 0s 2ms/step - loss: 0.5532 - accuracy: 0.7110\n",
            "Epoch 19/300\n",
            "26/26 [==============================] - 0s 3ms/step - loss: 0.5504 - accuracy: 0.7305\n",
            "Epoch 20/300\n",
            "26/26 [==============================] - 0s 3ms/step - loss: 0.5366 - accuracy: 0.7256\n",
            "Epoch 21/300\n",
            "26/26 [==============================] - 0s 3ms/step - loss: 0.5394 - accuracy: 0.7232\n",
            "Epoch 22/300\n",
            "26/26 [==============================] - 0s 3ms/step - loss: 0.5375 - accuracy: 0.7329\n",
            "Epoch 23/300\n",
            "26/26 [==============================] - 0s 3ms/step - loss: 0.5278 - accuracy: 0.7220\n",
            "Epoch 24/300\n",
            "26/26 [==============================] - 0s 3ms/step - loss: 0.5316 - accuracy: 0.7244\n",
            "Epoch 25/300\n",
            "26/26 [==============================] - 0s 3ms/step - loss: 0.5196 - accuracy: 0.7402\n",
            "Epoch 26/300\n",
            "26/26 [==============================] - 0s 3ms/step - loss: 0.5173 - accuracy: 0.7390\n",
            "Epoch 27/300\n",
            "26/26 [==============================] - 0s 3ms/step - loss: 0.5095 - accuracy: 0.7463\n",
            "Epoch 28/300\n",
            "26/26 [==============================] - 0s 2ms/step - loss: 0.5287 - accuracy: 0.7341\n",
            "Epoch 29/300\n",
            "26/26 [==============================] - 0s 3ms/step - loss: 0.5027 - accuracy: 0.7402\n",
            "Epoch 30/300\n",
            "26/26 [==============================] - 0s 3ms/step - loss: 0.5086 - accuracy: 0.7488\n",
            "Epoch 31/300\n",
            "26/26 [==============================] - 0s 3ms/step - loss: 0.4930 - accuracy: 0.7659\n",
            "Epoch 32/300\n",
            "26/26 [==============================] - 0s 3ms/step - loss: 0.4899 - accuracy: 0.7573\n",
            "Epoch 33/300\n",
            "26/26 [==============================] - 0s 3ms/step - loss: 0.4936 - accuracy: 0.7488\n",
            "Epoch 34/300\n",
            "26/26 [==============================] - 0s 3ms/step - loss: 0.4980 - accuracy: 0.7402\n",
            "Epoch 35/300\n",
            "26/26 [==============================] - 0s 3ms/step - loss: 0.4829 - accuracy: 0.7488\n",
            "Epoch 36/300\n",
            "26/26 [==============================] - 0s 3ms/step - loss: 0.4770 - accuracy: 0.7683\n",
            "Epoch 37/300\n",
            "26/26 [==============================] - 0s 2ms/step - loss: 0.4769 - accuracy: 0.7573\n",
            "Epoch 38/300\n",
            "26/26 [==============================] - 0s 3ms/step - loss: 0.4712 - accuracy: 0.7610\n",
            "Epoch 39/300\n",
            "26/26 [==============================] - 0s 3ms/step - loss: 0.4591 - accuracy: 0.7720\n",
            "Epoch 40/300\n",
            "26/26 [==============================] - 0s 5ms/step - loss: 0.4598 - accuracy: 0.7805\n",
            "Epoch 41/300\n",
            "26/26 [==============================] - 0s 5ms/step - loss: 0.4628 - accuracy: 0.7756\n",
            "Epoch 42/300\n",
            "26/26 [==============================] - 0s 4ms/step - loss: 0.4542 - accuracy: 0.7793\n",
            "Epoch 43/300\n",
            "26/26 [==============================] - 0s 4ms/step - loss: 0.4525 - accuracy: 0.7756\n",
            "Epoch 44/300\n",
            "26/26 [==============================] - 0s 4ms/step - loss: 0.4474 - accuracy: 0.7695\n",
            "Epoch 45/300\n",
            "26/26 [==============================] - 0s 4ms/step - loss: 0.4439 - accuracy: 0.7732\n",
            "Epoch 46/300\n",
            "26/26 [==============================] - 0s 4ms/step - loss: 0.4385 - accuracy: 0.7793\n",
            "Epoch 47/300\n",
            "26/26 [==============================] - 0s 5ms/step - loss: 0.4306 - accuracy: 0.7829\n",
            "Epoch 48/300\n",
            "26/26 [==============================] - 0s 4ms/step - loss: 0.4471 - accuracy: 0.7780\n",
            "Epoch 49/300\n",
            "26/26 [==============================] - 0s 4ms/step - loss: 0.4327 - accuracy: 0.7939\n",
            "Epoch 50/300\n",
            "26/26 [==============================] - 0s 4ms/step - loss: 0.4186 - accuracy: 0.7878\n",
            "Epoch 51/300\n",
            "26/26 [==============================] - 0s 4ms/step - loss: 0.4316 - accuracy: 0.7927\n",
            "Epoch 52/300\n",
            "26/26 [==============================] - 0s 4ms/step - loss: 0.4109 - accuracy: 0.8024\n",
            "Epoch 53/300\n",
            "26/26 [==============================] - 0s 4ms/step - loss: 0.4128 - accuracy: 0.7988\n",
            "Epoch 54/300\n",
            "26/26 [==============================] - 0s 4ms/step - loss: 0.4123 - accuracy: 0.7976\n",
            "Epoch 55/300\n",
            "26/26 [==============================] - 0s 4ms/step - loss: 0.4403 - accuracy: 0.7988\n",
            "Epoch 56/300\n",
            "26/26 [==============================] - 0s 4ms/step - loss: 0.3988 - accuracy: 0.8110\n",
            "Epoch 57/300\n",
            "26/26 [==============================] - 0s 4ms/step - loss: 0.3922 - accuracy: 0.8061\n",
            "Epoch 58/300\n",
            "26/26 [==============================] - 0s 4ms/step - loss: 0.4057 - accuracy: 0.7951\n",
            "Epoch 59/300\n",
            "26/26 [==============================] - 0s 4ms/step - loss: 0.3844 - accuracy: 0.8183\n",
            "Epoch 60/300\n",
            "26/26 [==============================] - 0s 4ms/step - loss: 0.4129 - accuracy: 0.8000\n",
            "Epoch 61/300\n",
            "26/26 [==============================] - 0s 4ms/step - loss: 0.4113 - accuracy: 0.8122\n",
            "Epoch 62/300\n",
            "26/26 [==============================] - 0s 4ms/step - loss: 0.3877 - accuracy: 0.8293\n",
            "Epoch 63/300\n",
            "26/26 [==============================] - 0s 4ms/step - loss: 0.3986 - accuracy: 0.8085\n",
            "Epoch 64/300\n",
            "26/26 [==============================] - 0s 4ms/step - loss: 0.3975 - accuracy: 0.8171\n",
            "Epoch 65/300\n",
            "26/26 [==============================] - 0s 4ms/step - loss: 0.3882 - accuracy: 0.8134\n",
            "Epoch 66/300\n",
            "26/26 [==============================] - 0s 3ms/step - loss: 0.3790 - accuracy: 0.8037\n",
            "Epoch 67/300\n",
            "26/26 [==============================] - 0s 2ms/step - loss: 0.3818 - accuracy: 0.8098\n",
            "Epoch 68/300\n",
            "26/26 [==============================] - 0s 3ms/step - loss: 0.3650 - accuracy: 0.8146\n",
            "Epoch 69/300\n",
            "26/26 [==============================] - 0s 3ms/step - loss: 0.3625 - accuracy: 0.8220\n",
            "Epoch 70/300\n",
            "26/26 [==============================] - 0s 3ms/step - loss: 0.3739 - accuracy: 0.8171\n",
            "Epoch 71/300\n",
            "26/26 [==============================] - 0s 3ms/step - loss: 0.3638 - accuracy: 0.8146\n",
            "Epoch 72/300\n",
            "26/26 [==============================] - 0s 3ms/step - loss: 0.3601 - accuracy: 0.8268\n",
            "Epoch 73/300\n",
            "26/26 [==============================] - 0s 3ms/step - loss: 0.3813 - accuracy: 0.8098\n",
            "Epoch 74/300\n",
            "26/26 [==============================] - 0s 3ms/step - loss: 0.3651 - accuracy: 0.8220\n",
            "Epoch 75/300\n",
            "26/26 [==============================] - 0s 3ms/step - loss: 0.3507 - accuracy: 0.8317\n",
            "Epoch 76/300\n",
            "26/26 [==============================] - 0s 3ms/step - loss: 0.3648 - accuracy: 0.8293\n",
            "Epoch 77/300\n",
            "26/26 [==============================] - 0s 3ms/step - loss: 0.3491 - accuracy: 0.8329\n",
            "Epoch 78/300\n",
            "26/26 [==============================] - 0s 2ms/step - loss: 0.3502 - accuracy: 0.8317\n",
            "Epoch 79/300\n",
            "26/26 [==============================] - 0s 3ms/step - loss: 0.3447 - accuracy: 0.8341\n",
            "Epoch 80/300\n",
            "26/26 [==============================] - 0s 3ms/step - loss: 0.3575 - accuracy: 0.8329\n",
            "Epoch 81/300\n",
            "26/26 [==============================] - 0s 3ms/step - loss: 0.3646 - accuracy: 0.8195\n",
            "Epoch 82/300\n",
            "26/26 [==============================] - 0s 2ms/step - loss: 0.3519 - accuracy: 0.8220\n",
            "Epoch 83/300\n",
            "26/26 [==============================] - 0s 3ms/step - loss: 0.3793 - accuracy: 0.8134\n",
            "Epoch 84/300\n",
            "26/26 [==============================] - 0s 2ms/step - loss: 0.3870 - accuracy: 0.8244\n",
            "Epoch 85/300\n",
            "26/26 [==============================] - 0s 3ms/step - loss: 0.3439 - accuracy: 0.8293\n",
            "Epoch 86/300\n",
            "26/26 [==============================] - 0s 3ms/step - loss: 0.3480 - accuracy: 0.8244\n",
            "Epoch 87/300\n",
            "26/26 [==============================] - 0s 3ms/step - loss: 0.3550 - accuracy: 0.8268\n",
            "Epoch 88/300\n",
            "26/26 [==============================] - 0s 3ms/step - loss: 0.3411 - accuracy: 0.8378\n",
            "Epoch 89/300\n",
            "26/26 [==============================] - 0s 3ms/step - loss: 0.3598 - accuracy: 0.8305\n",
            "Epoch 90/300\n",
            "26/26 [==============================] - 0s 3ms/step - loss: 0.3588 - accuracy: 0.8207\n",
            "Epoch 91/300\n",
            "26/26 [==============================] - 0s 3ms/step - loss: 0.3596 - accuracy: 0.8305\n",
            "Epoch 92/300\n",
            "26/26 [==============================] - 0s 3ms/step - loss: 0.3349 - accuracy: 0.8378\n",
            "Epoch 93/300\n",
            "26/26 [==============================] - 0s 3ms/step - loss: 0.3382 - accuracy: 0.8476\n",
            "Epoch 94/300\n",
            "26/26 [==============================] - 0s 2ms/step - loss: 0.3241 - accuracy: 0.8524\n",
            "Epoch 95/300\n",
            "26/26 [==============================] - 0s 3ms/step - loss: 0.3438 - accuracy: 0.8402\n",
            "Epoch 96/300\n",
            "26/26 [==============================] - 0s 2ms/step - loss: 0.3372 - accuracy: 0.8354\n",
            "Epoch 97/300\n",
            "26/26 [==============================] - 0s 3ms/step - loss: 0.3219 - accuracy: 0.8512\n",
            "Epoch 98/300\n",
            "26/26 [==============================] - 0s 3ms/step - loss: 0.3234 - accuracy: 0.8463\n",
            "Epoch 99/300\n",
            "26/26 [==============================] - 0s 3ms/step - loss: 0.3325 - accuracy: 0.8476\n",
            "Epoch 100/300\n",
            "26/26 [==============================] - 0s 2ms/step - loss: 0.3244 - accuracy: 0.8354\n",
            "Epoch 101/300\n",
            "26/26 [==============================] - 0s 3ms/step - loss: 0.3334 - accuracy: 0.8402\n",
            "Epoch 102/300\n",
            "26/26 [==============================] - 0s 3ms/step - loss: 0.3266 - accuracy: 0.8500\n",
            "Epoch 103/300\n",
            "26/26 [==============================] - 0s 3ms/step - loss: 0.3315 - accuracy: 0.8390\n",
            "Epoch 104/300\n",
            "26/26 [==============================] - 0s 3ms/step - loss: 0.3280 - accuracy: 0.8463\n",
            "Epoch 105/300\n",
            "26/26 [==============================] - 0s 3ms/step - loss: 0.3325 - accuracy: 0.8439\n",
            "Epoch 106/300\n",
            "26/26 [==============================] - 0s 3ms/step - loss: 0.3244 - accuracy: 0.8488\n",
            "Epoch 107/300\n",
            "26/26 [==============================] - 0s 3ms/step - loss: 0.3300 - accuracy: 0.8415\n",
            "Epoch 108/300\n",
            "26/26 [==============================] - 0s 2ms/step - loss: 0.3130 - accuracy: 0.8463\n",
            "Epoch 109/300\n",
            "26/26 [==============================] - 0s 2ms/step - loss: 0.3294 - accuracy: 0.8500\n",
            "Epoch 110/300\n",
            "26/26 [==============================] - 0s 2ms/step - loss: 0.3402 - accuracy: 0.8415\n",
            "Epoch 111/300\n",
            "26/26 [==============================] - 0s 3ms/step - loss: 0.3324 - accuracy: 0.8390\n",
            "Epoch 112/300\n",
            "26/26 [==============================] - 0s 2ms/step - loss: 0.3196 - accuracy: 0.8488\n",
            "Epoch 113/300\n",
            "26/26 [==============================] - 0s 3ms/step - loss: 0.3129 - accuracy: 0.8415\n",
            "Epoch 114/300\n",
            "26/26 [==============================] - 0s 3ms/step - loss: 0.3266 - accuracy: 0.8415\n",
            "Epoch 115/300\n",
            "26/26 [==============================] - 0s 3ms/step - loss: 0.3236 - accuracy: 0.8537\n",
            "Epoch 116/300\n",
            "26/26 [==============================] - 0s 3ms/step - loss: 0.3131 - accuracy: 0.8402\n",
            "Epoch 117/300\n",
            "26/26 [==============================] - 0s 3ms/step - loss: 0.3301 - accuracy: 0.8427\n",
            "Epoch 118/300\n",
            "26/26 [==============================] - 0s 3ms/step - loss: 0.3415 - accuracy: 0.8354\n",
            "Epoch 119/300\n",
            "26/26 [==============================] - 0s 3ms/step - loss: 0.3185 - accuracy: 0.8476\n",
            "Epoch 120/300\n",
            "26/26 [==============================] - 0s 2ms/step - loss: 0.3229 - accuracy: 0.8561\n",
            "Epoch 121/300\n",
            "26/26 [==============================] - 0s 3ms/step - loss: 0.3210 - accuracy: 0.8573\n",
            "Epoch 122/300\n",
            "26/26 [==============================] - 0s 3ms/step - loss: 0.3082 - accuracy: 0.8561\n",
            "Epoch 123/300\n",
            "26/26 [==============================] - 0s 3ms/step - loss: 0.3024 - accuracy: 0.8610\n",
            "Epoch 124/300\n",
            "26/26 [==============================] - 0s 2ms/step - loss: 0.3057 - accuracy: 0.8610\n",
            "Epoch 125/300\n",
            "26/26 [==============================] - 0s 2ms/step - loss: 0.3326 - accuracy: 0.8427\n",
            "Epoch 126/300\n",
            "26/26 [==============================] - 0s 3ms/step - loss: 0.3398 - accuracy: 0.8268\n",
            "Epoch 127/300\n",
            "26/26 [==============================] - 0s 3ms/step - loss: 0.3142 - accuracy: 0.8500\n",
            "Epoch 128/300\n",
            "26/26 [==============================] - 0s 2ms/step - loss: 0.3187 - accuracy: 0.8378\n",
            "Epoch 129/300\n",
            "26/26 [==============================] - 0s 3ms/step - loss: 0.3164 - accuracy: 0.8500\n",
            "Epoch 130/300\n",
            "26/26 [==============================] - 0s 3ms/step - loss: 0.3229 - accuracy: 0.8402\n",
            "Epoch 131/300\n",
            "26/26 [==============================] - 0s 3ms/step - loss: 0.3254 - accuracy: 0.8427\n",
            "Epoch 132/300\n",
            "26/26 [==============================] - 0s 3ms/step - loss: 0.3142 - accuracy: 0.8524\n",
            "Epoch 133/300\n",
            "26/26 [==============================] - 0s 2ms/step - loss: 0.2953 - accuracy: 0.8573\n",
            "Epoch 134/300\n",
            "26/26 [==============================] - 0s 2ms/step - loss: 0.2940 - accuracy: 0.8537\n",
            "Epoch 135/300\n",
            "26/26 [==============================] - 0s 3ms/step - loss: 0.2993 - accuracy: 0.8598\n",
            "Epoch 136/300\n",
            "26/26 [==============================] - 0s 3ms/step - loss: 0.3088 - accuracy: 0.8415\n",
            "Epoch 137/300\n",
            "26/26 [==============================] - 0s 2ms/step - loss: 0.2924 - accuracy: 0.8659\n",
            "Epoch 138/300\n",
            "26/26 [==============================] - 0s 3ms/step - loss: 0.2826 - accuracy: 0.8659\n",
            "Epoch 139/300\n",
            "26/26 [==============================] - 0s 3ms/step - loss: 0.2889 - accuracy: 0.8720\n",
            "Epoch 140/300\n",
            "26/26 [==============================] - 0s 3ms/step - loss: 0.2929 - accuracy: 0.8585\n",
            "Epoch 141/300\n",
            "26/26 [==============================] - 0s 3ms/step - loss: 0.2800 - accuracy: 0.8524\n",
            "Epoch 142/300\n",
            "26/26 [==============================] - 0s 3ms/step - loss: 0.3023 - accuracy: 0.8476\n",
            "Epoch 143/300\n",
            "26/26 [==============================] - 0s 3ms/step - loss: 0.2930 - accuracy: 0.8585\n",
            "Epoch 144/300\n",
            "26/26 [==============================] - 0s 3ms/step - loss: 0.2866 - accuracy: 0.8610\n",
            "Epoch 145/300\n",
            "26/26 [==============================] - 0s 3ms/step - loss: 0.2853 - accuracy: 0.8671\n",
            "Epoch 146/300\n",
            "26/26 [==============================] - 0s 2ms/step - loss: 0.2908 - accuracy: 0.8524\n",
            "Epoch 147/300\n",
            "26/26 [==============================] - 0s 3ms/step - loss: 0.2829 - accuracy: 0.8720\n",
            "Epoch 148/300\n",
            "26/26 [==============================] - 0s 3ms/step - loss: 0.2915 - accuracy: 0.8634\n",
            "Epoch 149/300\n",
            "26/26 [==============================] - 0s 3ms/step - loss: 0.2851 - accuracy: 0.8585\n",
            "Epoch 150/300\n",
            "26/26 [==============================] - 0s 3ms/step - loss: 0.2884 - accuracy: 0.8512\n",
            "Epoch 151/300\n",
            "26/26 [==============================] - 0s 3ms/step - loss: 0.2824 - accuracy: 0.8537\n",
            "Epoch 152/300\n",
            "26/26 [==============================] - 0s 2ms/step - loss: 0.2779 - accuracy: 0.8610\n",
            "Epoch 153/300\n",
            "26/26 [==============================] - 0s 3ms/step - loss: 0.2797 - accuracy: 0.8585\n",
            "Epoch 154/300\n",
            "26/26 [==============================] - 0s 3ms/step - loss: 0.2736 - accuracy: 0.8732\n",
            "Epoch 155/300\n",
            "26/26 [==============================] - 0s 3ms/step - loss: 0.2863 - accuracy: 0.8598\n",
            "Epoch 156/300\n",
            "26/26 [==============================] - 0s 3ms/step - loss: 0.2907 - accuracy: 0.8622\n",
            "Epoch 157/300\n",
            "26/26 [==============================] - 0s 3ms/step - loss: 0.2764 - accuracy: 0.8744\n",
            "Epoch 158/300\n",
            "26/26 [==============================] - 0s 3ms/step - loss: 0.3127 - accuracy: 0.8549\n",
            "Epoch 159/300\n",
            "26/26 [==============================] - 0s 3ms/step - loss: 0.2772 - accuracy: 0.8561\n",
            "Epoch 160/300\n",
            "26/26 [==============================] - 0s 3ms/step - loss: 0.2860 - accuracy: 0.8585\n",
            "Epoch 161/300\n",
            "26/26 [==============================] - 0s 3ms/step - loss: 0.2691 - accuracy: 0.8537\n",
            "Epoch 162/300\n",
            "26/26 [==============================] - 0s 3ms/step - loss: 0.2730 - accuracy: 0.8756\n",
            "Epoch 163/300\n",
            "26/26 [==============================] - 0s 3ms/step - loss: 0.2657 - accuracy: 0.8659\n",
            "Epoch 164/300\n",
            "26/26 [==============================] - 0s 3ms/step - loss: 0.2983 - accuracy: 0.8573\n",
            "Epoch 165/300\n",
            "26/26 [==============================] - 0s 3ms/step - loss: 0.2723 - accuracy: 0.8720\n",
            "Epoch 166/300\n",
            "26/26 [==============================] - 0s 3ms/step - loss: 0.3165 - accuracy: 0.8512\n",
            "Epoch 167/300\n",
            "26/26 [==============================] - 0s 3ms/step - loss: 0.3235 - accuracy: 0.8537\n",
            "Epoch 168/300\n",
            "26/26 [==============================] - 0s 3ms/step - loss: 0.2917 - accuracy: 0.8549\n",
            "Epoch 169/300\n",
            "26/26 [==============================] - 0s 3ms/step - loss: 0.2664 - accuracy: 0.8683\n",
            "Epoch 170/300\n",
            "26/26 [==============================] - 0s 3ms/step - loss: 0.2723 - accuracy: 0.8659\n",
            "Epoch 171/300\n",
            "26/26 [==============================] - 0s 3ms/step - loss: 0.2742 - accuracy: 0.8659\n",
            "Epoch 172/300\n",
            "26/26 [==============================] - 0s 3ms/step - loss: 0.2704 - accuracy: 0.8598\n",
            "Epoch 173/300\n",
            "26/26 [==============================] - 0s 3ms/step - loss: 0.2663 - accuracy: 0.8610\n",
            "Epoch 174/300\n",
            "26/26 [==============================] - 0s 3ms/step - loss: 0.2913 - accuracy: 0.8561\n",
            "Epoch 175/300\n",
            "26/26 [==============================] - 0s 3ms/step - loss: 0.2625 - accuracy: 0.8659\n",
            "Epoch 176/300\n",
            "26/26 [==============================] - 0s 3ms/step - loss: 0.2566 - accuracy: 0.8780\n",
            "Epoch 177/300\n",
            "26/26 [==============================] - 0s 3ms/step - loss: 0.2664 - accuracy: 0.8829\n",
            "Epoch 178/300\n",
            "26/26 [==============================] - 0s 3ms/step - loss: 0.2692 - accuracy: 0.8659\n",
            "Epoch 179/300\n",
            "26/26 [==============================] - 0s 3ms/step - loss: 0.2635 - accuracy: 0.8768\n",
            "Epoch 180/300\n",
            "26/26 [==============================] - 0s 3ms/step - loss: 0.2554 - accuracy: 0.8720\n",
            "Epoch 181/300\n",
            "26/26 [==============================] - 0s 3ms/step - loss: 0.2583 - accuracy: 0.8695\n",
            "Epoch 182/300\n",
            "26/26 [==============================] - 0s 3ms/step - loss: 0.2477 - accuracy: 0.8805\n",
            "Epoch 183/300\n",
            "26/26 [==============================] - 0s 3ms/step - loss: 0.2657 - accuracy: 0.8841\n",
            "Epoch 184/300\n",
            "26/26 [==============================] - 0s 3ms/step - loss: 0.2472 - accuracy: 0.8780\n",
            "Epoch 185/300\n",
            "26/26 [==============================] - 0s 3ms/step - loss: 0.2499 - accuracy: 0.8780\n",
            "Epoch 186/300\n",
            "26/26 [==============================] - 0s 3ms/step - loss: 0.2764 - accuracy: 0.8756\n",
            "Epoch 187/300\n",
            "26/26 [==============================] - 0s 3ms/step - loss: 0.2821 - accuracy: 0.8744\n",
            "Epoch 188/300\n",
            "26/26 [==============================] - 0s 3ms/step - loss: 0.2676 - accuracy: 0.8744\n",
            "Epoch 189/300\n",
            "26/26 [==============================] - 0s 3ms/step - loss: 0.2463 - accuracy: 0.8841\n",
            "Epoch 190/300\n",
            "26/26 [==============================] - 0s 3ms/step - loss: 0.2470 - accuracy: 0.8695\n",
            "Epoch 191/300\n",
            "26/26 [==============================] - 0s 3ms/step - loss: 0.2433 - accuracy: 0.8756\n",
            "Epoch 192/300\n",
            "26/26 [==============================] - 0s 4ms/step - loss: 0.2422 - accuracy: 0.8793\n",
            "Epoch 193/300\n",
            "26/26 [==============================] - 0s 4ms/step - loss: 0.2536 - accuracy: 0.8793\n",
            "Epoch 194/300\n",
            "26/26 [==============================] - 0s 4ms/step - loss: 0.2466 - accuracy: 0.8805\n",
            "Epoch 195/300\n",
            "26/26 [==============================] - 0s 5ms/step - loss: 0.2338 - accuracy: 0.8841\n",
            "Epoch 196/300\n",
            "26/26 [==============================] - 0s 4ms/step - loss: 0.2549 - accuracy: 0.8768\n",
            "Epoch 197/300\n",
            "26/26 [==============================] - 0s 4ms/step - loss: 0.2361 - accuracy: 0.8902\n",
            "Epoch 198/300\n",
            "26/26 [==============================] - 0s 5ms/step - loss: 0.2417 - accuracy: 0.8854\n",
            "Epoch 199/300\n",
            "26/26 [==============================] - 0s 4ms/step - loss: 0.2373 - accuracy: 0.8951\n",
            "Epoch 200/300\n",
            "26/26 [==============================] - 0s 4ms/step - loss: 0.2386 - accuracy: 0.8976\n",
            "Epoch 201/300\n",
            "26/26 [==============================] - 0s 4ms/step - loss: 0.2696 - accuracy: 0.8573\n",
            "Epoch 202/300\n",
            "26/26 [==============================] - 0s 4ms/step - loss: 0.2542 - accuracy: 0.8793\n",
            "Epoch 203/300\n",
            "26/26 [==============================] - 0s 4ms/step - loss: 0.2392 - accuracy: 0.8915\n",
            "Epoch 204/300\n",
            "26/26 [==============================] - 0s 4ms/step - loss: 0.2335 - accuracy: 0.8963\n",
            "Epoch 205/300\n",
            "26/26 [==============================] - 0s 4ms/step - loss: 0.2427 - accuracy: 0.8756\n",
            "Epoch 206/300\n",
            "26/26 [==============================] - 0s 4ms/step - loss: 0.2344 - accuracy: 0.8915\n",
            "Epoch 207/300\n",
            "26/26 [==============================] - 0s 4ms/step - loss: 0.2372 - accuracy: 0.8854\n",
            "Epoch 208/300\n",
            "26/26 [==============================] - 0s 3ms/step - loss: 0.2485 - accuracy: 0.8841\n",
            "Epoch 209/300\n",
            "26/26 [==============================] - 0s 4ms/step - loss: 0.2452 - accuracy: 0.8841\n",
            "Epoch 210/300\n",
            "26/26 [==============================] - 0s 4ms/step - loss: 0.2392 - accuracy: 0.8915\n",
            "Epoch 211/300\n",
            "26/26 [==============================] - 0s 4ms/step - loss: 0.2527 - accuracy: 0.8756\n",
            "Epoch 212/300\n",
            "26/26 [==============================] - 0s 4ms/step - loss: 0.2436 - accuracy: 0.8854\n",
            "Epoch 213/300\n",
            "26/26 [==============================] - 0s 4ms/step - loss: 0.2344 - accuracy: 0.8829\n",
            "Epoch 214/300\n",
            "26/26 [==============================] - 0s 4ms/step - loss: 0.2231 - accuracy: 0.9012\n",
            "Epoch 215/300\n",
            "26/26 [==============================] - 0s 4ms/step - loss: 0.2258 - accuracy: 0.8939\n",
            "Epoch 216/300\n",
            "26/26 [==============================] - 0s 4ms/step - loss: 0.2199 - accuracy: 0.8988\n",
            "Epoch 217/300\n",
            "26/26 [==============================] - 0s 4ms/step - loss: 0.2320 - accuracy: 0.8841\n",
            "Epoch 218/300\n",
            "26/26 [==============================] - 0s 5ms/step - loss: 0.2332 - accuracy: 0.8927\n",
            "Epoch 219/300\n",
            "26/26 [==============================] - 0s 4ms/step - loss: 0.2358 - accuracy: 0.8915\n",
            "Epoch 220/300\n",
            "26/26 [==============================] - 0s 4ms/step - loss: 0.2524 - accuracy: 0.8768\n",
            "Epoch 221/300\n",
            "26/26 [==============================] - 0s 3ms/step - loss: 0.2296 - accuracy: 0.8841\n",
            "Epoch 222/300\n",
            "26/26 [==============================] - 0s 3ms/step - loss: 0.2203 - accuracy: 0.8988\n",
            "Epoch 223/300\n",
            "26/26 [==============================] - 0s 3ms/step - loss: 0.2421 - accuracy: 0.8951\n",
            "Epoch 224/300\n",
            "26/26 [==============================] - 0s 2ms/step - loss: 0.2627 - accuracy: 0.8756\n",
            "Epoch 225/300\n",
            "26/26 [==============================] - 0s 2ms/step - loss: 0.2609 - accuracy: 0.8780\n",
            "Epoch 226/300\n",
            "26/26 [==============================] - 0s 3ms/step - loss: 0.2243 - accuracy: 0.8927\n",
            "Epoch 227/300\n",
            "26/26 [==============================] - 0s 3ms/step - loss: 0.2297 - accuracy: 0.8988\n",
            "Epoch 228/300\n",
            "26/26 [==============================] - 0s 3ms/step - loss: 0.2304 - accuracy: 0.8841\n",
            "Epoch 229/300\n",
            "26/26 [==============================] - 0s 3ms/step - loss: 0.2328 - accuracy: 0.8951\n",
            "Epoch 230/300\n",
            "26/26 [==============================] - 0s 3ms/step - loss: 0.2270 - accuracy: 0.8915\n",
            "Epoch 231/300\n",
            "26/26 [==============================] - 0s 3ms/step - loss: 0.2336 - accuracy: 0.8841\n",
            "Epoch 232/300\n",
            "26/26 [==============================] - 0s 3ms/step - loss: 0.2231 - accuracy: 0.8915\n",
            "Epoch 233/300\n",
            "26/26 [==============================] - 0s 3ms/step - loss: 0.2162 - accuracy: 0.8866\n",
            "Epoch 234/300\n",
            "26/26 [==============================] - 0s 3ms/step - loss: 0.2223 - accuracy: 0.8939\n",
            "Epoch 235/300\n",
            "26/26 [==============================] - 0s 4ms/step - loss: 0.2197 - accuracy: 0.9061\n",
            "Epoch 236/300\n",
            "26/26 [==============================] - 0s 3ms/step - loss: 0.2141 - accuracy: 0.9037\n",
            "Epoch 237/300\n",
            "26/26 [==============================] - 0s 3ms/step - loss: 0.2120 - accuracy: 0.8988\n",
            "Epoch 238/300\n",
            "26/26 [==============================] - 0s 3ms/step - loss: 0.2143 - accuracy: 0.8890\n",
            "Epoch 239/300\n",
            "26/26 [==============================] - 0s 3ms/step - loss: 0.2151 - accuracy: 0.8902\n",
            "Epoch 240/300\n",
            "26/26 [==============================] - 0s 3ms/step - loss: 0.2230 - accuracy: 0.9000\n",
            "Epoch 241/300\n",
            "26/26 [==============================] - 0s 3ms/step - loss: 0.2593 - accuracy: 0.8805\n",
            "Epoch 242/300\n",
            "26/26 [==============================] - 0s 3ms/step - loss: 0.2335 - accuracy: 0.8963\n",
            "Epoch 243/300\n",
            "26/26 [==============================] - 0s 3ms/step - loss: 0.2141 - accuracy: 0.8939\n",
            "Epoch 244/300\n",
            "26/26 [==============================] - 0s 3ms/step - loss: 0.2088 - accuracy: 0.9073\n",
            "Epoch 245/300\n",
            "26/26 [==============================] - 0s 3ms/step - loss: 0.2108 - accuracy: 0.9085\n",
            "Epoch 246/300\n",
            "26/26 [==============================] - 0s 3ms/step - loss: 0.2091 - accuracy: 0.9049\n",
            "Epoch 247/300\n",
            "26/26 [==============================] - 0s 3ms/step - loss: 0.2104 - accuracy: 0.9024\n",
            "Epoch 248/300\n",
            "26/26 [==============================] - 0s 3ms/step - loss: 0.2271 - accuracy: 0.8939\n",
            "Epoch 249/300\n",
            "26/26 [==============================] - 0s 3ms/step - loss: 0.2211 - accuracy: 0.8915\n",
            "Epoch 250/300\n",
            "26/26 [==============================] - 0s 3ms/step - loss: 0.2123 - accuracy: 0.9012\n",
            "Epoch 251/300\n",
            "26/26 [==============================] - 0s 3ms/step - loss: 0.2080 - accuracy: 0.9134\n",
            "Epoch 252/300\n",
            "26/26 [==============================] - 0s 3ms/step - loss: 0.2188 - accuracy: 0.9110\n",
            "Epoch 253/300\n",
            "26/26 [==============================] - 0s 3ms/step - loss: 0.2289 - accuracy: 0.8902\n",
            "Epoch 254/300\n",
            "26/26 [==============================] - 0s 3ms/step - loss: 0.2168 - accuracy: 0.9049\n",
            "Epoch 255/300\n",
            "26/26 [==============================] - 0s 3ms/step - loss: 0.2065 - accuracy: 0.9159\n",
            "Epoch 256/300\n",
            "26/26 [==============================] - 0s 3ms/step - loss: 0.2436 - accuracy: 0.8915\n",
            "Epoch 257/300\n",
            "26/26 [==============================] - 0s 3ms/step - loss: 0.3413 - accuracy: 0.8439\n",
            "Epoch 258/300\n",
            "26/26 [==============================] - 0s 3ms/step - loss: 0.2316 - accuracy: 0.9012\n",
            "Epoch 259/300\n",
            "26/26 [==============================] - 0s 3ms/step - loss: 0.2086 - accuracy: 0.9012\n",
            "Epoch 260/300\n",
            "26/26 [==============================] - 0s 3ms/step - loss: 0.1965 - accuracy: 0.9073\n",
            "Epoch 261/300\n",
            "26/26 [==============================] - 0s 3ms/step - loss: 0.2044 - accuracy: 0.9073\n",
            "Epoch 262/300\n",
            "26/26 [==============================] - 0s 3ms/step - loss: 0.1991 - accuracy: 0.9159\n",
            "Epoch 263/300\n",
            "26/26 [==============================] - 0s 3ms/step - loss: 0.2013 - accuracy: 0.9049\n",
            "Epoch 264/300\n",
            "26/26 [==============================] - 0s 3ms/step - loss: 0.2073 - accuracy: 0.9134\n",
            "Epoch 265/300\n",
            "26/26 [==============================] - 0s 3ms/step - loss: 0.2092 - accuracy: 0.9000\n",
            "Epoch 266/300\n",
            "26/26 [==============================] - 0s 3ms/step - loss: 0.1973 - accuracy: 0.9085\n",
            "Epoch 267/300\n",
            "26/26 [==============================] - 0s 3ms/step - loss: 0.1997 - accuracy: 0.9085\n",
            "Epoch 268/300\n",
            "26/26 [==============================] - 0s 3ms/step - loss: 0.2042 - accuracy: 0.9110\n",
            "Epoch 269/300\n",
            "26/26 [==============================] - 0s 3ms/step - loss: 0.2311 - accuracy: 0.8927\n",
            "Epoch 270/300\n",
            "26/26 [==============================] - 0s 3ms/step - loss: 0.2073 - accuracy: 0.9049\n",
            "Epoch 271/300\n",
            "26/26 [==============================] - 0s 3ms/step - loss: 0.2031 - accuracy: 0.9183\n",
            "Epoch 272/300\n",
            "26/26 [==============================] - 0s 3ms/step - loss: 0.2078 - accuracy: 0.9000\n",
            "Epoch 273/300\n",
            "26/26 [==============================] - 0s 3ms/step - loss: 0.2029 - accuracy: 0.9134\n",
            "Epoch 274/300\n",
            "26/26 [==============================] - 0s 3ms/step - loss: 0.2075 - accuracy: 0.9012\n",
            "Epoch 275/300\n",
            "26/26 [==============================] - 0s 3ms/step - loss: 0.2162 - accuracy: 0.8988\n",
            "Epoch 276/300\n",
            "26/26 [==============================] - 0s 3ms/step - loss: 0.2000 - accuracy: 0.9098\n",
            "Epoch 277/300\n",
            "26/26 [==============================] - 0s 3ms/step - loss: 0.2013 - accuracy: 0.9122\n",
            "Epoch 278/300\n",
            "26/26 [==============================] - 0s 3ms/step - loss: 0.1894 - accuracy: 0.9268\n",
            "Epoch 279/300\n",
            "26/26 [==============================] - 0s 3ms/step - loss: 0.1906 - accuracy: 0.9171\n",
            "Epoch 280/300\n",
            "26/26 [==============================] - 0s 3ms/step - loss: 0.1922 - accuracy: 0.9073\n",
            "Epoch 281/300\n",
            "26/26 [==============================] - 0s 3ms/step - loss: 0.1972 - accuracy: 0.9134\n",
            "Epoch 282/300\n",
            "26/26 [==============================] - 0s 3ms/step - loss: 0.2084 - accuracy: 0.9049\n",
            "Epoch 283/300\n",
            "26/26 [==============================] - 0s 3ms/step - loss: 0.2040 - accuracy: 0.9122\n",
            "Epoch 284/300\n",
            "26/26 [==============================] - 0s 3ms/step - loss: 0.1981 - accuracy: 0.9146\n",
            "Epoch 285/300\n",
            "26/26 [==============================] - 0s 3ms/step - loss: 0.2071 - accuracy: 0.9073\n",
            "Epoch 286/300\n",
            "26/26 [==============================] - 0s 3ms/step - loss: 0.1930 - accuracy: 0.9134\n",
            "Epoch 287/300\n",
            "26/26 [==============================] - 0s 3ms/step - loss: 0.1926 - accuracy: 0.9012\n",
            "Epoch 288/300\n",
            "26/26 [==============================] - 0s 3ms/step - loss: 0.1948 - accuracy: 0.9122\n",
            "Epoch 289/300\n",
            "26/26 [==============================] - 0s 3ms/step - loss: 0.1893 - accuracy: 0.9256\n",
            "Epoch 290/300\n",
            "26/26 [==============================] - 0s 3ms/step - loss: 0.2026 - accuracy: 0.9110\n",
            "Epoch 291/300\n",
            "26/26 [==============================] - 0s 3ms/step - loss: 0.1936 - accuracy: 0.9146\n",
            "Epoch 292/300\n",
            "26/26 [==============================] - 0s 3ms/step - loss: 0.1870 - accuracy: 0.9171\n",
            "Epoch 293/300\n",
            "26/26 [==============================] - 0s 3ms/step - loss: 0.2361 - accuracy: 0.8988\n",
            "Epoch 294/300\n",
            "26/26 [==============================] - 0s 3ms/step - loss: 0.2496 - accuracy: 0.8915\n",
            "Epoch 295/300\n",
            "26/26 [==============================] - 0s 3ms/step - loss: 0.1949 - accuracy: 0.9171\n",
            "Epoch 296/300\n",
            "26/26 [==============================] - 0s 3ms/step - loss: 0.1821 - accuracy: 0.9280\n",
            "Epoch 297/300\n",
            "26/26 [==============================] - 0s 3ms/step - loss: 0.1795 - accuracy: 0.9207\n",
            "Epoch 298/300\n",
            "26/26 [==============================] - 0s 3ms/step - loss: 0.1789 - accuracy: 0.9220\n",
            "Epoch 299/300\n",
            "26/26 [==============================] - 0s 3ms/step - loss: 0.1912 - accuracy: 0.9146\n",
            "Epoch 300/300\n",
            "26/26 [==============================] - 0s 3ms/step - loss: 0.1844 - accuracy: 0.9195\n"
          ]
        }
      ]
    },
    {
      "cell_type": "code",
      "source": [
        "y_pred_nn_train = model.predict(X_train)\n",
        "y_pred_nn_test = model.predict(X_test)"
      ],
      "metadata": {
        "colab": {
          "base_uri": "https://localhost:8080/"
        },
        "id": "dg7xrfOmTcSh",
        "outputId": "6800b93c-04b6-4e7a-9e25-4f79aa352b84"
      },
      "execution_count": 43,
      "outputs": [
        {
          "output_type": "stream",
          "name": "stdout",
          "text": [
            "26/26 [==============================] - 0s 2ms/step\n",
            "7/7 [==============================] - 0s 2ms/step\n"
          ]
        }
      ]
    },
    {
      "cell_type": "code",
      "source": [
        "rounded_y_train = [round(x[0]) for x in y_pred_nn_train]\n",
        "rounded_y_test = [round(x[0]) for x in y_pred_nn_test]"
      ],
      "metadata": {
        "id": "q6O4UvKRULPH"
      },
      "execution_count": 44,
      "outputs": []
    },
    {
      "cell_type": "markdown",
      "source": [],
      "metadata": {
        "id": "DMUNGmO3T2bK"
      }
    },
    {
      "cell_type": "code",
      "source": [
        "print(\"Accuracy (train) Neural Network: \", accuracy_score(y_train, rounded_y_train))\n",
        "print(\"Accuracy (test) Neural Network: \", accuracy_score(y_test, rounded_y_test))"
      ],
      "metadata": {
        "colab": {
          "base_uri": "https://localhost:8080/"
        },
        "id": "3vLdqlH8TlOz",
        "outputId": "435584fe-8578-49ca-bcf5-31cac00922d8"
      },
      "execution_count": 45,
      "outputs": [
        {
          "output_type": "stream",
          "name": "stdout",
          "text": [
            "Accuracy (train) Neural Network:  0.9231707317073171\n",
            "Accuracy (test) Neural Network:  0.8878048780487805\n"
          ]
        }
      ]
    },
    {
      "cell_type": "code",
      "source": [
        "\n",
        "\n",
        "import keras\n",
        "from matplotlib import pyplot as plt\n",
        "plt.plot(history.history['loss'])\n",
        "plt.title('model loss')\n",
        "plt.ylabel('loss')\n",
        "plt.xlabel('epoch')\n",
        "plt.legend(['train'], loc='upper left')\n",
        "plt.show()"
      ],
      "metadata": {
        "colab": {
          "base_uri": "https://localhost:8080/",
          "height": 295
        },
        "id": "0WWiLAjYTzQK",
        "outputId": "e669acf0-da5c-453b-9c3a-0acc8db4cec1"
      },
      "execution_count": null,
      "outputs": [
        {
          "output_type": "display_data",
          "data": {
            "text/plain": [
              "<Figure size 432x288 with 1 Axes>"
            ],
            "image/png": "[encoded data removed]"
          },
          "metadata": {
            "needs_background": "light"
          }
        }
      ]
    },
    {
      "cell_type": "code",
      "source": [
        "import keras\n",
        "from matplotlib import pyplot as plt\n",
        "plt.plot(history.history['accuracy'])\n",
        "plt.title('model accuracy')\n",
        "plt.ylabel('accuracy')\n",
        "plt.xlabel('epoch')\n",
        "plt.legend(['train'], loc='upper left')\n",
        "plt.show()"
      ],
      "metadata": {
        "colab": {
          "base_uri": "https://localhost:8080/",
          "height": 295
        },
        "id": "Q6pDdT57UwPU",
        "outputId": "ca41fcdd-db30-466d-bdff-dd638bf778fd"
      },
      "execution_count": null,
      "outputs": [
        {
          "output_type": "display_data",
          "data": {
            "text/plain": [
              "<Figure size 432x288 with 1 Axes>"
            ],
            "image/png": "[encoded data removed]"
          },
          "metadata": {
            "needs_background": "light"
          }
        }
      ]
    },
    {
      "cell_type": "code",
      "source": [],
      "metadata": {
        "id": "jSUm-IR7U0kN"
      },
      "execution_count": null,
      "outputs": []
    }
  ]
}